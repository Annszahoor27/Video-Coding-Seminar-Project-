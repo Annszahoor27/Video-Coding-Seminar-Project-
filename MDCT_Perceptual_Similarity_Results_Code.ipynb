{
  "cells": [
    {
      "cell_type": "code",
      "execution_count": 1,
      "id": "ab0fee44-668b-4970-8358-bf90f26c631b",
      "metadata": {
        "colab": {
          "base_uri": "https://localhost:8080/"
        },
        "id": "ab0fee44-668b-4970-8358-bf90f26c631b",
        "outputId": "238de3ff-c813-4f8a-a4fa-1ef053734ee1"
      },
      "outputs": [
        {
          "output_type": "stream",
          "name": "stdout",
          "text": [
            "Collecting PyWavelets\n",
            "  Downloading pywavelets-1.7.0-cp310-cp310-manylinux_2_17_x86_64.manylinux2014_x86_64.whl.metadata (9.0 kB)\n",
            "Requirement already satisfied: numpy<3,>=1.23 in /usr/local/lib/python3.10/dist-packages (from PyWavelets) (1.26.4)\n",
            "Downloading pywavelets-1.7.0-cp310-cp310-manylinux_2_17_x86_64.manylinux2014_x86_64.whl (4.5 MB)\n",
            "\u001b[2K   \u001b[90m━━━━━━━━━━━━━━━━━━━━━━━━━━━━━━━━━━━━━━━━\u001b[0m \u001b[32m4.5/4.5 MB\u001b[0m \u001b[31m29.1 MB/s\u001b[0m eta \u001b[36m0:00:00\u001b[0m\n",
            "\u001b[?25hInstalling collected packages: PyWavelets\n",
            "Successfully installed PyWavelets-1.7.0\n"
          ]
        }
      ],
      "source": [
        "!pip install PyWavelets"
      ]
    },
    {
      "cell_type": "code",
      "source": [
        "!pip install lpips\n"
      ],
      "metadata": {
        "colab": {
          "base_uri": "https://localhost:8080/"
        },
        "id": "sltX9jcQ4Svx",
        "outputId": "3efc2e7f-cbe2-4351-9837-462097227213"
      },
      "id": "sltX9jcQ4Svx",
      "execution_count": 3,
      "outputs": [
        {
          "output_type": "stream",
          "name": "stdout",
          "text": [
            "Collecting lpips\n",
            "  Downloading lpips-0.1.4-py3-none-any.whl.metadata (10 kB)\n",
            "Requirement already satisfied: torch>=0.4.0 in /usr/local/lib/python3.10/dist-packages (from lpips) (2.3.1+cu121)\n",
            "Requirement already satisfied: torchvision>=0.2.1 in /usr/local/lib/python3.10/dist-packages (from lpips) (0.18.1+cu121)\n",
            "Requirement already satisfied: numpy>=1.14.3 in /usr/local/lib/python3.10/dist-packages (from lpips) (1.26.4)\n",
            "Requirement already satisfied: scipy>=1.0.1 in /usr/local/lib/python3.10/dist-packages (from lpips) (1.13.1)\n",
            "Requirement already satisfied: tqdm>=4.28.1 in /usr/local/lib/python3.10/dist-packages (from lpips) (4.66.5)\n",
            "Requirement already satisfied: filelock in /usr/local/lib/python3.10/dist-packages (from torch>=0.4.0->lpips) (3.15.4)\n",
            "Requirement already satisfied: typing-extensions>=4.8.0 in /usr/local/lib/python3.10/dist-packages (from torch>=0.4.0->lpips) (4.12.2)\n",
            "Requirement already satisfied: sympy in /usr/local/lib/python3.10/dist-packages (from torch>=0.4.0->lpips) (1.13.1)\n",
            "Requirement already satisfied: networkx in /usr/local/lib/python3.10/dist-packages (from torch>=0.4.0->lpips) (3.3)\n",
            "Requirement already satisfied: jinja2 in /usr/local/lib/python3.10/dist-packages (from torch>=0.4.0->lpips) (3.1.4)\n",
            "Requirement already satisfied: fsspec in /usr/local/lib/python3.10/dist-packages (from torch>=0.4.0->lpips) (2024.6.1)\n",
            "Collecting nvidia-cuda-nvrtc-cu12==12.1.105 (from torch>=0.4.0->lpips)\n",
            "  Using cached nvidia_cuda_nvrtc_cu12-12.1.105-py3-none-manylinux1_x86_64.whl.metadata (1.5 kB)\n",
            "Collecting nvidia-cuda-runtime-cu12==12.1.105 (from torch>=0.4.0->lpips)\n",
            "  Using cached nvidia_cuda_runtime_cu12-12.1.105-py3-none-manylinux1_x86_64.whl.metadata (1.5 kB)\n",
            "Collecting nvidia-cuda-cupti-cu12==12.1.105 (from torch>=0.4.0->lpips)\n",
            "  Using cached nvidia_cuda_cupti_cu12-12.1.105-py3-none-manylinux1_x86_64.whl.metadata (1.6 kB)\n",
            "Collecting nvidia-cudnn-cu12==8.9.2.26 (from torch>=0.4.0->lpips)\n",
            "  Using cached nvidia_cudnn_cu12-8.9.2.26-py3-none-manylinux1_x86_64.whl.metadata (1.6 kB)\n",
            "Collecting nvidia-cublas-cu12==12.1.3.1 (from torch>=0.4.0->lpips)\n",
            "  Using cached nvidia_cublas_cu12-12.1.3.1-py3-none-manylinux1_x86_64.whl.metadata (1.5 kB)\n",
            "Collecting nvidia-cufft-cu12==11.0.2.54 (from torch>=0.4.0->lpips)\n",
            "  Using cached nvidia_cufft_cu12-11.0.2.54-py3-none-manylinux1_x86_64.whl.metadata (1.5 kB)\n",
            "Collecting nvidia-curand-cu12==10.3.2.106 (from torch>=0.4.0->lpips)\n",
            "  Using cached nvidia_curand_cu12-10.3.2.106-py3-none-manylinux1_x86_64.whl.metadata (1.5 kB)\n",
            "Collecting nvidia-cusolver-cu12==11.4.5.107 (from torch>=0.4.0->lpips)\n",
            "  Using cached nvidia_cusolver_cu12-11.4.5.107-py3-none-manylinux1_x86_64.whl.metadata (1.6 kB)\n",
            "Collecting nvidia-cusparse-cu12==12.1.0.106 (from torch>=0.4.0->lpips)\n",
            "  Using cached nvidia_cusparse_cu12-12.1.0.106-py3-none-manylinux1_x86_64.whl.metadata (1.6 kB)\n",
            "Collecting nvidia-nccl-cu12==2.20.5 (from torch>=0.4.0->lpips)\n",
            "  Using cached nvidia_nccl_cu12-2.20.5-py3-none-manylinux2014_x86_64.whl.metadata (1.8 kB)\n",
            "Collecting nvidia-nvtx-cu12==12.1.105 (from torch>=0.4.0->lpips)\n",
            "  Using cached nvidia_nvtx_cu12-12.1.105-py3-none-manylinux1_x86_64.whl.metadata (1.7 kB)\n",
            "Requirement already satisfied: triton==2.3.1 in /usr/local/lib/python3.10/dist-packages (from torch>=0.4.0->lpips) (2.3.1)\n",
            "Collecting nvidia-nvjitlink-cu12 (from nvidia-cusolver-cu12==11.4.5.107->torch>=0.4.0->lpips)\n",
            "  Using cached nvidia_nvjitlink_cu12-12.6.20-py3-none-manylinux2014_x86_64.whl.metadata (1.5 kB)\n",
            "Requirement already satisfied: pillow!=8.3.*,>=5.3.0 in /usr/local/lib/python3.10/dist-packages (from torchvision>=0.2.1->lpips) (9.4.0)\n",
            "Requirement already satisfied: MarkupSafe>=2.0 in /usr/local/lib/python3.10/dist-packages (from jinja2->torch>=0.4.0->lpips) (2.1.5)\n",
            "Requirement already satisfied: mpmath<1.4,>=1.1.0 in /usr/local/lib/python3.10/dist-packages (from sympy->torch>=0.4.0->lpips) (1.3.0)\n",
            "Downloading lpips-0.1.4-py3-none-any.whl (53 kB)\n",
            "\u001b[2K   \u001b[90m━━━━━━━━━━━━━━━━━━━━━━━━━━━━━━━━━━━━━━━━\u001b[0m \u001b[32m53.8/53.8 kB\u001b[0m \u001b[31m2.1 MB/s\u001b[0m eta \u001b[36m0:00:00\u001b[0m\n",
            "\u001b[?25hUsing cached nvidia_cublas_cu12-12.1.3.1-py3-none-manylinux1_x86_64.whl (410.6 MB)\n",
            "Using cached nvidia_cuda_cupti_cu12-12.1.105-py3-none-manylinux1_x86_64.whl (14.1 MB)\n",
            "Using cached nvidia_cuda_nvrtc_cu12-12.1.105-py3-none-manylinux1_x86_64.whl (23.7 MB)\n",
            "Using cached nvidia_cuda_runtime_cu12-12.1.105-py3-none-manylinux1_x86_64.whl (823 kB)\n",
            "Using cached nvidia_cudnn_cu12-8.9.2.26-py3-none-manylinux1_x86_64.whl (731.7 MB)\n",
            "Using cached nvidia_cufft_cu12-11.0.2.54-py3-none-manylinux1_x86_64.whl (121.6 MB)\n",
            "Using cached nvidia_curand_cu12-10.3.2.106-py3-none-manylinux1_x86_64.whl (56.5 MB)\n",
            "Using cached nvidia_cusolver_cu12-11.4.5.107-py3-none-manylinux1_x86_64.whl (124.2 MB)\n",
            "Using cached nvidia_cusparse_cu12-12.1.0.106-py3-none-manylinux1_x86_64.whl (196.0 MB)\n",
            "Using cached nvidia_nccl_cu12-2.20.5-py3-none-manylinux2014_x86_64.whl (176.2 MB)\n",
            "Using cached nvidia_nvtx_cu12-12.1.105-py3-none-manylinux1_x86_64.whl (99 kB)\n",
            "Using cached nvidia_nvjitlink_cu12-12.6.20-py3-none-manylinux2014_x86_64.whl (19.7 MB)\n",
            "Installing collected packages: nvidia-nvtx-cu12, nvidia-nvjitlink-cu12, nvidia-nccl-cu12, nvidia-curand-cu12, nvidia-cufft-cu12, nvidia-cuda-runtime-cu12, nvidia-cuda-nvrtc-cu12, nvidia-cuda-cupti-cu12, nvidia-cublas-cu12, nvidia-cusparse-cu12, nvidia-cudnn-cu12, nvidia-cusolver-cu12, lpips\n",
            "Successfully installed lpips-0.1.4 nvidia-cublas-cu12-12.1.3.1 nvidia-cuda-cupti-cu12-12.1.105 nvidia-cuda-nvrtc-cu12-12.1.105 nvidia-cuda-runtime-cu12-12.1.105 nvidia-cudnn-cu12-8.9.2.26 nvidia-cufft-cu12-11.0.2.54 nvidia-curand-cu12-10.3.2.106 nvidia-cusolver-cu12-11.4.5.107 nvidia-cusparse-cu12-12.1.0.106 nvidia-nccl-cu12-2.20.5 nvidia-nvjitlink-cu12-12.6.20 nvidia-nvtx-cu12-12.1.105\n"
          ]
        }
      ]
    },
    {
      "cell_type": "code",
      "execution_count": 4,
      "id": "616487f2-9b5d-4756-ac24-25400dd91e18",
      "metadata": {
        "id": "616487f2-9b5d-4756-ac24-25400dd91e18"
      },
      "outputs": [],
      "source": [
        "import os\n",
        "import lpips\n",
        "import torch\n",
        "import pandas as pd\n",
        "\n",
        "import pathlib\n"
      ]
    },
    {
      "cell_type": "code",
      "execution_count": 5,
      "id": "4b16fb66-3c5a-46fb-b093-80d6af38e0ea",
      "metadata": {
        "id": "4b16fb66-3c5a-46fb-b093-80d6af38e0ea"
      },
      "outputs": [],
      "source": [
        "from PIL import Image\n",
        "from torchvision import transforms\n",
        "from pathlib import Path"
      ]
    },
    {
      "cell_type": "code",
      "execution_count": 25,
      "id": "49719362-0ac1-4f33-a124-d5bdc3f8f562",
      "metadata": {
        "id": "49719362-0ac1-4f33-a124-d5bdc3f8f562"
      },
      "outputs": [],
      "source": [
        "path_original = Path(\"/content/input_images\")\n",
        "\n",
        "path_input_dct = Path(\"/content/Test_dct\")\n",
        "\n",
        "path_dct = Path(\"/content/input_dct\")\n",
        "\n",
        "path_mdct = Path(\"/content/output_images\")"
      ]
    },
    {
      "cell_type": "code",
      "execution_count": 26,
      "id": "0d1b0bb9-37cd-4707-821c-45da1d3c4824",
      "metadata": {
        "colab": {
          "base_uri": "https://localhost:8080/"
        },
        "id": "0d1b0bb9-37cd-4707-821c-45da1d3c4824",
        "outputId": "30061868-4245-4420-c2bc-562ec93cc26f"
      },
      "outputs": [
        {
          "output_type": "stream",
          "name": "stdout",
          "text": [
            "Setting up [LPIPS] perceptual loss: trunk [alex], v[0.1], spatial [off]\n"
          ]
        },
        {
          "output_type": "stream",
          "name": "stderr",
          "text": [
            "/usr/local/lib/python3.10/dist-packages/torchvision/models/_utils.py:208: UserWarning: The parameter 'pretrained' is deprecated since 0.13 and may be removed in the future, please use 'weights' instead.\n",
            "  warnings.warn(\n",
            "/usr/local/lib/python3.10/dist-packages/torchvision/models/_utils.py:223: UserWarning: Arguments other than a weight enum or `None` for 'weights' are deprecated since 0.13 and may be removed in the future. The current behavior is equivalent to passing `weights=AlexNet_Weights.IMAGENET1K_V1`. You can also use `weights=AlexNet_Weights.DEFAULT` to get the most up-to-date weights.\n",
            "  warnings.warn(msg)\n"
          ]
        },
        {
          "output_type": "stream",
          "name": "stdout",
          "text": [
            "Loading model from: /usr/local/lib/python3.10/dist-packages/lpips/weights/v0.1/alex.pth\n"
          ]
        }
      ],
      "source": [
        "# Initialize LPIPS model\n",
        "lpips_model = lpips.LPIPS(net='alex')  # Options: alex, vgg, squeeze"
      ]
    },
    {
      "cell_type": "code",
      "execution_count": 27,
      "id": "e2724f0e-5752-4168-8adf-a51960047475",
      "metadata": {
        "id": "e2724f0e-5752-4168-8adf-a51960047475"
      },
      "outputs": [],
      "source": [
        "# Define image transformation\n",
        "transform = transforms.Compose([\n",
        "    transforms.Resize((256, 256)),  # Resize for uniformity\n",
        "    transforms.ToTensor(),\n",
        "    transforms.Normalize(mean=[0.485, 0.456, 0.406], std=[0.229, 0.224, 0.225])])"
      ]
    },
    {
      "cell_type": "code",
      "execution_count": 28,
      "id": "8272f8e4-cc6c-4886-bd26-a3b9e0daf0c2",
      "metadata": {
        "id": "8272f8e4-cc6c-4886-bd26-a3b9e0daf0c2"
      },
      "outputs": [],
      "source": [
        "# Function to calculate LPIPS for a set of images\n",
        "def calculate_lpips(original_path, compressed_path):\n",
        "    total_lpips = 0.0\n",
        "    image_count = 0\n",
        "    data = []\n",
        "\n",
        "    for filename in os.listdir(original_path):\n",
        "        original_image_path = os.path.join(original_path, filename)\n",
        "        compressed_image_path = os.path.join(compressed_path, filename)\n",
        "\n",
        "        # Check if corresponding compressed image exists and skip directories\n",
        "        if not os.path.isfile(original_image_path) or not os.path.isfile(compressed_image_path):\n",
        "            continue\n",
        "\n",
        "        # Load images\n",
        "        original_image = Image.open(original_image_path).convert('RGB')\n",
        "        compressed_image = Image.open(compressed_image_path).convert('RGB')\n",
        "\n",
        "        # Transform images\n",
        "        original_tensor = transform(original_image).unsqueeze(0)\n",
        "        compressed_tensor = transform(compressed_image).unsqueeze(0)\n",
        "\n",
        "        # Calculate LPIPS\n",
        "        lpips_value = lpips_model(original_tensor, compressed_tensor)\n",
        "        lpips_value_item = lpips_value.item()\n",
        "        total_lpips += lpips_value_item\n",
        "        image_count += 1\n",
        "\n",
        "        #print(f\"LPIPS for {filename}: {lpips_value.item()}\")\n",
        "\n",
        "        # Store result\n",
        "        data.append({'File Name':filename, 'LPIPS Value':lpips_value_item})\n",
        "\n",
        "    # Create DataFrame\n",
        "    df = pd.DataFrame(data)\n",
        "    return df\n",
        "\n",
        "    # Calculate average LPIPS\n",
        "    #avg_lpips = total_lpips / image_count if image_count > 0 else 0\n",
        "    #return avg_lpips"
      ]
    },
    {
      "cell_type": "code",
      "execution_count": 29,
      "id": "9e2f9a57-93c4-4f81-90ec-ed3d812a745f",
      "metadata": {
        "colab": {
          "base_uri": "https://localhost:8080/"
        },
        "id": "9e2f9a57-93c4-4f81-90ec-ed3d812a745f",
        "outputId": "e33556be-30d0-4fcf-d9a1-ff1c3d7cfcdf"
      },
      "outputs": [
        {
          "output_type": "stream",
          "name": "stdout",
          "text": [
            "LPIPS Scores for MDCT compressed Images with Original Images:\n",
            "   File Name  LPIPS Value\n",
            "0    13.jpeg     0.517091\n",
            "1     9.jpeg     0.331022\n",
            "2    17.jpeg     0.365689\n",
            "3    24.jpeg     0.402504\n",
            "4     8.jpeg     0.309440\n",
            "5    23.jpeg     0.665594\n",
            "6    15.jpeg     0.430111\n",
            "7    11.jpeg     0.389284\n",
            "8    22.jpeg     0.535063\n",
            "9    20.jpeg     0.294989\n",
            "10    5.jpeg     0.509890\n",
            "11    6.jpeg     0.377356\n",
            "12   16.jpeg     0.314706\n",
            "13   18.jpeg     0.541192\n",
            "14   14.jpeg     0.545919\n",
            "15    3.jpeg     0.496875\n",
            "16    1.jpeg     0.352045\n",
            "17   21.jpeg     0.381031\n",
            "18   12.jpeg     0.393769\n",
            "19    2.jpeg     0.648277\n",
            "20   19.jpeg     0.327316\n",
            "21    7.jpeg     0.515413\n",
            "22   10.jpeg     0.366413\n",
            "23    4.jpeg     0.576798\n"
          ]
        }
      ],
      "source": [
        "# Calculate LPIPS for color images\n",
        "lpips_mdct = calculate_lpips(path_original, path_mdct)\n",
        "#print(f\"Average LPIPS for color images: {lpips_color}\")\n",
        "print(\"LPIPS Scores for MDCT compressed Images with Original Images:\")\n",
        "print(lpips_mdct)\n",
        "#lpips_color.to_csv('/home/jupyter-64365/VC project/color_lpips_results.csv', index=False)"
      ]
    },
    {
      "cell_type": "code",
      "execution_count": 30,
      "id": "70cdeadd-3975-492d-9d2f-ed4079e4eca6",
      "metadata": {
        "colab": {
          "base_uri": "https://localhost:8080/"
        },
        "id": "70cdeadd-3975-492d-9d2f-ed4079e4eca6",
        "outputId": "46691614-6691-4a03-b781-d7bc8f9f3d05"
      },
      "outputs": [
        {
          "output_type": "stream",
          "name": "stdout",
          "text": [
            "LPIPS Scores for DCT Compresssed Images with Original Images:\n",
            "Empty DataFrame\n",
            "Columns: []\n",
            "Index: []\n"
          ]
        }
      ],
      "source": [
        "# Calculate LPIPS for gray images\n",
        "lpips_dct = calculate_lpips(path_input_dct, path_dct)\n",
        "#print(f\"Average LPIPS for gray images: {lpips_gray}\")\n",
        "print(\"LPIPS Scores for DCT Compresssed Images with Original Images:\")\n",
        "print(lpips_dct)\n",
        "#lpips_gray.to_csv('/home/jupyter-64365/VC project/gray_lpips_results.csv', index=False)"
      ]
    },
    {
      "cell_type": "code",
      "execution_count": null,
      "id": "5088dbab-369a-486e-9aad-43dec562556d",
      "metadata": {
        "id": "5088dbab-369a-486e-9aad-43dec562556d"
      },
      "outputs": [],
      "source": [
        "\n",
        "# Function to calculate LPIPS for a set of images\n",
        "'''def calculate_lpips(original_path, compressed_path):\n",
        "    total_lpips = 0.0\n",
        "    image_count = 0\n",
        "\n",
        "    for filename in os.listdir(original_path):\n",
        "        original_image_path = os.path.join(original_path, filename)\n",
        "        compressed_image_path = os.path.join(compressed_path, filename)\n",
        "\n",
        "        # Check if corresponding compressed image exists\n",
        "        if not os.path.exists(compressed_image_path):\n",
        "            continue\n",
        "\n",
        "        # Load images\n",
        "        original_image = Image.open(original_image_path).convert('RGB')\n",
        "        compressed_image = Image.open(compressed_image_path).convert('RGB')\n",
        "\n",
        "        # Transform images\n",
        "        original_tensor = transform(original_image).unsqueeze(0)\n",
        "        compressed_tensor = transform(compressed_image).unsqueeze(0)\n",
        "\n",
        "        # Calculate LPIPS\n",
        "        lpips_value = lpips_model(original_tensor, compressed_tensor)\n",
        "        total_lpips += lpips_value.item()\n",
        "        image_count += 1\n",
        "\n",
        "        print(f\"LPIPS for {filename}: {lpips_value.item()}\")\n",
        "\n",
        "    # Calculate average LPIPS\n",
        "    avg_lpips = total_lpips / image_count if image_count > 0 else 0\n",
        "    return avg_lpips"
      ]
    },
    {
      "cell_type": "code",
      "execution_count": null,
      "id": "4e38b965-c269-4814-a910-884a084acfc3",
      "metadata": {
        "id": "4e38b965-c269-4814-a910-884a084acfc3"
      },
      "outputs": [],
      "source": []
    }
  ],
  "metadata": {
    "kernelspec": {
      "display_name": "Python 3 (ipykernel)",
      "language": "python",
      "name": "python3"
    },
    "language_info": {
      "codemirror_mode": {
        "name": "ipython",
        "version": 3
      },
      "file_extension": ".py",
      "mimetype": "text/x-python",
      "name": "python",
      "nbconvert_exporter": "python",
      "pygments_lexer": "ipython3",
      "version": "3.11.3"
    },
    "colab": {
      "provenance": []
    }
  },
  "nbformat": 4,
  "nbformat_minor": 5
}